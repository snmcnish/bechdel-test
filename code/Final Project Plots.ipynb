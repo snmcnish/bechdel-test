{
 "cells": [
  {
   "cell_type": "code",
   "execution_count": 3,
   "metadata": {},
   "outputs": [
    {
     "data": {
      "text/html": [
       "<script>requirejs.config({paths: { 'plotly': ['https://cdn.plot.ly/plotly-latest.min']},});if(!window.Plotly) {{require(['plotly'],function(plotly) {window.Plotly=plotly;});}}</script>"
      ],
      "text/vnd.plotly.v1+html": [
       "<script>requirejs.config({paths: { 'plotly': ['https://cdn.plot.ly/plotly-latest.min']},});if(!window.Plotly) {{require(['plotly'],function(plotly) {window.Plotly=plotly;});}}</script>"
      ]
     },
     "metadata": {},
     "output_type": "display_data"
    }
   ],
   "source": [
    "import plotly\n",
    "import plotly.plotly as py\n",
    "import plotly.graph_objs as go\n",
    "import pandas as pd\n",
    "from datetime import datetime\n",
    "import pandas_datareader.data as web\n",
    "from plotly.offline import init_notebook_mode, plot\n",
    "import matplotlib.pyplot as plt\n",
    "\n",
    "init_notebook_mode(connected=True)\n",
    "%matplotlib inline"
   ]
  },
  {
   "cell_type": "markdown",
   "metadata": {},
   "source": [
    "### Explore data head and shape"
   ]
  },
  {
   "cell_type": "code",
   "execution_count": 4,
   "metadata": {},
   "outputs": [],
   "source": [
    "# import data\n",
    "bechdel = pd.read_csv(\"../data/clean/bechdel_clean.csv\")\n",
    "crew = pd.read_csv(\"../data/clean/crew_clean.csv\")\n",
    "cast = pd.read_csv(\"../data/clean/cast_clean.csv\")"
   ]
  },
  {
   "cell_type": "code",
   "execution_count": 5,
   "metadata": {
    "scrolled": true
   },
   "outputs": [
    {
     "data": {
      "text/html": [
       "<div>\n",
       "<style scoped>\n",
       "    .dataframe tbody tr th:only-of-type {\n",
       "        vertical-align: middle;\n",
       "    }\n",
       "\n",
       "    .dataframe tbody tr th {\n",
       "        vertical-align: top;\n",
       "    }\n",
       "\n",
       "    .dataframe thead th {\n",
       "        text-align: right;\n",
       "    }\n",
       "</style>\n",
       "<table border=\"1\" class=\"dataframe\">\n",
       "  <thead>\n",
       "    <tr style=\"text-align: right;\">\n",
       "      <th></th>\n",
       "      <th>Unnamed: 0</th>\n",
       "      <th>tconst</th>\n",
       "      <th>id</th>\n",
       "      <th>title</th>\n",
       "      <th>bechdel_rating</th>\n",
       "      <th>year</th>\n",
       "      <th>averageRating</th>\n",
       "      <th>numVotes</th>\n",
       "      <th>runtimeMinutes</th>\n",
       "      <th>genres</th>\n",
       "      <th>primaryTitle</th>\n",
       "    </tr>\n",
       "  </thead>\n",
       "  <tbody>\n",
       "    <tr>\n",
       "      <th>0</th>\n",
       "      <td>3</td>\n",
       "      <td>3.0</td>\n",
       "      <td>5433</td>\n",
       "      <td>Pauvre Pierrot</td>\n",
       "      <td>0</td>\n",
       "      <td>1892</td>\n",
       "      <td>6.6</td>\n",
       "      <td>947.0</td>\n",
       "      <td>4</td>\n",
       "      <td>Animation,Comedy,Romance</td>\n",
       "      <td>Pauvre Pierrot</td>\n",
       "    </tr>\n",
       "    <tr>\n",
       "      <th>1</th>\n",
       "      <td>4</td>\n",
       "      <td>12.0</td>\n",
       "      <td>6199</td>\n",
       "      <td>Arrival of a Train, The</td>\n",
       "      <td>0</td>\n",
       "      <td>1896</td>\n",
       "      <td>7.4</td>\n",
       "      <td>8160.0</td>\n",
       "      <td>1</td>\n",
       "      <td>Documentary,Short</td>\n",
       "      <td>The Arrival of a Train</td>\n",
       "    </tr>\n",
       "    <tr>\n",
       "      <th>2</th>\n",
       "      <td>5</td>\n",
       "      <td>14.0</td>\n",
       "      <td>5444</td>\n",
       "      <td>Tables Turned on the Gardener</td>\n",
       "      <td>0</td>\n",
       "      <td>1895</td>\n",
       "      <td>7.2</td>\n",
       "      <td>3564.0</td>\n",
       "      <td>1</td>\n",
       "      <td>Comedy,Short</td>\n",
       "      <td>Tables Turned on the Gardener</td>\n",
       "    </tr>\n",
       "    <tr>\n",
       "      <th>3</th>\n",
       "      <td>6</td>\n",
       "      <td>91.0</td>\n",
       "      <td>4982</td>\n",
       "      <td>House of the Devil, The</td>\n",
       "      <td>0</td>\n",
       "      <td>1896</td>\n",
       "      <td>6.7</td>\n",
       "      <td>2023.0</td>\n",
       "      <td>3</td>\n",
       "      <td>Horror,Short</td>\n",
       "      <td>The House of the Devil</td>\n",
       "    </tr>\n",
       "    <tr>\n",
       "      <th>4</th>\n",
       "      <td>7</td>\n",
       "      <td>131.0</td>\n",
       "      <td>5406</td>\n",
       "      <td>Une nuit terrible</td>\n",
       "      <td>0</td>\n",
       "      <td>1896</td>\n",
       "      <td>5.9</td>\n",
       "      <td>768.0</td>\n",
       "      <td>1</td>\n",
       "      <td>Comedy,Horror,Short</td>\n",
       "      <td>A Terrible Night</td>\n",
       "    </tr>\n",
       "  </tbody>\n",
       "</table>\n",
       "</div>"
      ],
      "text/plain": [
       "   Unnamed: 0  tconst    id                          title  bechdel_rating  \\\n",
       "0           3     3.0  5433                 Pauvre Pierrot               0   \n",
       "1           4    12.0  6199        Arrival of a Train, The               0   \n",
       "2           5    14.0  5444  Tables Turned on the Gardener               0   \n",
       "3           6    91.0  4982        House of the Devil, The               0   \n",
       "4           7   131.0  5406              Une nuit terrible               0   \n",
       "\n",
       "   year  averageRating  numVotes runtimeMinutes                    genres  \\\n",
       "0  1892            6.6     947.0              4  Animation,Comedy,Romance   \n",
       "1  1896            7.4    8160.0              1         Documentary,Short   \n",
       "2  1895            7.2    3564.0              1              Comedy,Short   \n",
       "3  1896            6.7    2023.0              3              Horror,Short   \n",
       "4  1896            5.9     768.0              1       Comedy,Horror,Short   \n",
       "\n",
       "                    primaryTitle  \n",
       "0                 Pauvre Pierrot  \n",
       "1         The Arrival of a Train  \n",
       "2  Tables Turned on the Gardener  \n",
       "3         The House of the Devil  \n",
       "4               A Terrible Night  "
      ]
     },
     "execution_count": 5,
     "metadata": {},
     "output_type": "execute_result"
    }
   ],
   "source": [
    "# look at data\n",
    "bechdel.head()"
   ]
  },
  {
   "cell_type": "code",
   "execution_count": 6,
   "metadata": {},
   "outputs": [
    {
     "data": {
      "text/plain": [
       "(7653, 11)"
      ]
     },
     "execution_count": 6,
     "metadata": {},
     "output_type": "execute_result"
    }
   ],
   "source": [
    "# cheack data shape\n",
    "bechdel.shape"
   ]
  },
  {
   "cell_type": "code",
   "execution_count": 7,
   "metadata": {
    "scrolled": false
   },
   "outputs": [
    {
     "data": {
      "text/html": [
       "<div>\n",
       "<style scoped>\n",
       "    .dataframe tbody tr th:only-of-type {\n",
       "        vertical-align: middle;\n",
       "    }\n",
       "\n",
       "    .dataframe tbody tr th {\n",
       "        vertical-align: top;\n",
       "    }\n",
       "\n",
       "    .dataframe thead th {\n",
       "        text-align: right;\n",
       "    }\n",
       "</style>\n",
       "<table border=\"1\" class=\"dataframe\">\n",
       "  <thead>\n",
       "    <tr style=\"text-align: right;\">\n",
       "      <th></th>\n",
       "      <th>Unnamed: 0</th>\n",
       "      <th>nconst</th>\n",
       "      <th>tconst</th>\n",
       "      <th>crew.type</th>\n",
       "      <th>primaryName</th>\n",
       "      <th>primaryProfession</th>\n",
       "      <th>gender</th>\n",
       "    </tr>\n",
       "  </thead>\n",
       "  <tbody>\n",
       "    <tr>\n",
       "      <th>0</th>\n",
       "      <td>107</td>\n",
       "      <td>nm0000005</td>\n",
       "      <td>77711</td>\n",
       "      <td>writer</td>\n",
       "      <td>Ingmar Bergman</td>\n",
       "      <td>writer,director,actor</td>\n",
       "      <td>Male</td>\n",
       "    </tr>\n",
       "    <tr>\n",
       "      <th>1</th>\n",
       "      <td>108</td>\n",
       "      <td>nm0000005</td>\n",
       "      <td>36914</td>\n",
       "      <td>writer</td>\n",
       "      <td>Ingmar Bergman</td>\n",
       "      <td>writer,director,actor</td>\n",
       "      <td>Male</td>\n",
       "    </tr>\n",
       "    <tr>\n",
       "      <th>2</th>\n",
       "      <td>109</td>\n",
       "      <td>nm0000005</td>\n",
       "      <td>76319</td>\n",
       "      <td>writer</td>\n",
       "      <td>Ingmar Bergman</td>\n",
       "      <td>writer,director,actor</td>\n",
       "      <td>Male</td>\n",
       "    </tr>\n",
       "    <tr>\n",
       "      <th>3</th>\n",
       "      <td>110</td>\n",
       "      <td>nm0000005</td>\n",
       "      <td>53976</td>\n",
       "      <td>director</td>\n",
       "      <td>Ingmar Bergman</td>\n",
       "      <td>writer,director,actor</td>\n",
       "      <td>Male</td>\n",
       "    </tr>\n",
       "    <tr>\n",
       "      <th>4</th>\n",
       "      <td>111</td>\n",
       "      <td>nm0000005</td>\n",
       "      <td>55499</td>\n",
       "      <td>writer</td>\n",
       "      <td>Ingmar Bergman</td>\n",
       "      <td>writer,director,actor</td>\n",
       "      <td>Male</td>\n",
       "    </tr>\n",
       "  </tbody>\n",
       "</table>\n",
       "</div>"
      ],
      "text/plain": [
       "   Unnamed: 0     nconst  tconst crew.type     primaryName  \\\n",
       "0         107  nm0000005   77711    writer  Ingmar Bergman   \n",
       "1         108  nm0000005   36914    writer  Ingmar Bergman   \n",
       "2         109  nm0000005   76319    writer  Ingmar Bergman   \n",
       "3         110  nm0000005   53976  director  Ingmar Bergman   \n",
       "4         111  nm0000005   55499    writer  Ingmar Bergman   \n",
       "\n",
       "       primaryProfession gender  \n",
       "0  writer,director,actor   Male  \n",
       "1  writer,director,actor   Male  \n",
       "2  writer,director,actor   Male  \n",
       "3  writer,director,actor   Male  \n",
       "4  writer,director,actor   Male  "
      ]
     },
     "execution_count": 7,
     "metadata": {},
     "output_type": "execute_result"
    }
   ],
   "source": [
    "# look at crew data\n",
    "crew.head()"
   ]
  },
  {
   "cell_type": "code",
   "execution_count": 11,
   "metadata": {},
   "outputs": [
    {
     "data": {
      "text/plain": [
       "18966"
      ]
     },
     "execution_count": 11,
     "metadata": {},
     "output_type": "execute_result"
    }
   ],
   "source": [
    "# check how many null values there are for gender in crew data \n",
    "crew.gender.isnull().sum()"
   ]
  },
  {
   "cell_type": "code",
   "execution_count": 13,
   "metadata": {},
   "outputs": [
    {
     "data": {
      "text/html": [
       "<div>\n",
       "<style scoped>\n",
       "    .dataframe tbody tr th:only-of-type {\n",
       "        vertical-align: middle;\n",
       "    }\n",
       "\n",
       "    .dataframe tbody tr th {\n",
       "        vertical-align: top;\n",
       "    }\n",
       "\n",
       "    .dataframe thead th {\n",
       "        text-align: right;\n",
       "    }\n",
       "</style>\n",
       "<table border=\"1\" class=\"dataframe\">\n",
       "  <thead>\n",
       "    <tr style=\"text-align: right;\">\n",
       "      <th></th>\n",
       "      <th>Unnamed: 0</th>\n",
       "      <th>nconst</th>\n",
       "      <th>tconst</th>\n",
       "      <th>ordering</th>\n",
       "      <th>category</th>\n",
       "      <th>primaryName</th>\n",
       "      <th>primaryProfession</th>\n",
       "      <th>gender</th>\n",
       "    </tr>\n",
       "  </thead>\n",
       "  <tbody>\n",
       "    <tr>\n",
       "      <th>0</th>\n",
       "      <td>60</td>\n",
       "      <td>nm0000001</td>\n",
       "      <td>29971.0</td>\n",
       "      <td>1.0</td>\n",
       "      <td>actor</td>\n",
       "      <td>Fred Astaire</td>\n",
       "      <td>soundtrack,actor,miscellaneous</td>\n",
       "      <td>Male</td>\n",
       "    </tr>\n",
       "    <tr>\n",
       "      <th>1</th>\n",
       "      <td>61</td>\n",
       "      <td>nm0000001</td>\n",
       "      <td>29546.0</td>\n",
       "      <td>1.0</td>\n",
       "      <td>actor</td>\n",
       "      <td>Fred Astaire</td>\n",
       "      <td>soundtrack,actor,miscellaneous</td>\n",
       "      <td>Male</td>\n",
       "    </tr>\n",
       "    <tr>\n",
       "      <th>2</th>\n",
       "      <td>62</td>\n",
       "      <td>nm0000001</td>\n",
       "      <td>36363.0</td>\n",
       "      <td>1.0</td>\n",
       "      <td>actor</td>\n",
       "      <td>Fred Astaire</td>\n",
       "      <td>soundtrack,actor,miscellaneous</td>\n",
       "      <td>Male</td>\n",
       "    </tr>\n",
       "    <tr>\n",
       "      <th>3</th>\n",
       "      <td>63</td>\n",
       "      <td>nm0000001</td>\n",
       "      <td>41158.0</td>\n",
       "      <td>1.0</td>\n",
       "      <td>actor</td>\n",
       "      <td>Fred Astaire</td>\n",
       "      <td>soundtrack,actor,miscellaneous</td>\n",
       "      <td>Male</td>\n",
       "    </tr>\n",
       "    <tr>\n",
       "      <th>4</th>\n",
       "      <td>64</td>\n",
       "      <td>nm0000001</td>\n",
       "      <td>40308.0</td>\n",
       "      <td>2.0</td>\n",
       "      <td>actor</td>\n",
       "      <td>Fred Astaire</td>\n",
       "      <td>soundtrack,actor,miscellaneous</td>\n",
       "      <td>Male</td>\n",
       "    </tr>\n",
       "  </tbody>\n",
       "</table>\n",
       "</div>"
      ],
      "text/plain": [
       "   Unnamed: 0     nconst   tconst  ordering category   primaryName  \\\n",
       "0          60  nm0000001  29971.0       1.0    actor  Fred Astaire   \n",
       "1          61  nm0000001  29546.0       1.0    actor  Fred Astaire   \n",
       "2          62  nm0000001  36363.0       1.0    actor  Fred Astaire   \n",
       "3          63  nm0000001  41158.0       1.0    actor  Fred Astaire   \n",
       "4          64  nm0000001  40308.0       2.0    actor  Fred Astaire   \n",
       "\n",
       "                primaryProfession gender  \n",
       "0  soundtrack,actor,miscellaneous   Male  \n",
       "1  soundtrack,actor,miscellaneous   Male  \n",
       "2  soundtrack,actor,miscellaneous   Male  \n",
       "3  soundtrack,actor,miscellaneous   Male  \n",
       "4  soundtrack,actor,miscellaneous   Male  "
      ]
     },
     "execution_count": 13,
     "metadata": {},
     "output_type": "execute_result"
    }
   ],
   "source": [
    "# look at cast data\n",
    "cast.head()"
   ]
  },
  {
   "cell_type": "code",
   "execution_count": 15,
   "metadata": {},
   "outputs": [
    {
     "data": {
      "text/plain": [
       "16802"
      ]
     },
     "execution_count": 15,
     "metadata": {},
     "output_type": "execute_result"
    }
   ],
   "source": [
    "# check how many null values there are for gender in cast data \n",
    "cast.gender.isnull().sum()"
   ]
  },
  {
   "cell_type": "markdown",
   "metadata": {},
   "source": [
    "### Ratings by 5 year groups"
   ]
  },
  {
   "cell_type": "markdown",
   "metadata": {},
   "source": [
    "This code groups data into 5 year buckets and plots pass rate over time as bar charts. We did not use chart in the final website."
   ]
  },
  {
   "cell_type": "code",
   "execution_count": 8,
   "metadata": {
    "collapsed": true
   },
   "outputs": [],
   "source": [
    "# create dataframes by bechdel ratings\n",
    "rating_0 = bechdel[bechdel['bechdel_rating'] == 0]\n",
    "rating_1 = bechdel[bechdel['bechdel_rating'] == 1]\n",
    "rating_2 = bechdel[bechdel['bechdel_rating'] == 2]\n",
    "rating_3 = bechdel[bechdel['bechdel_rating'] == 3]"
   ]
  },
  {
   "cell_type": "code",
   "execution_count": 9,
   "metadata": {
    "collapsed": true
   },
   "outputs": [],
   "source": [
    "# group by year and count \n",
    "rating_0_cnt = pd.DataFrame(rating_0.groupby(['year']).size())\n",
    "rating_0_cnt = rating_0_cnt.reset_index()\n",
    "rating_0_cnt.columns = ['year', 'cnt']\n",
    "\n",
    "rating_1_cnt = pd.DataFrame(rating_1.groupby(['year']).size())\n",
    "rating_1_cnt = rating_1_cnt.reset_index()\n",
    "rating_1_cnt.columns = ['year', 'cnt']\n",
    "\n",
    "rating_2_cnt = pd.DataFrame(rating_2.groupby(['year']).size())\n",
    "rating_2_cnt = rating_2_cnt.reset_index()\n",
    "rating_2_cnt.columns = ['year', 'cnt']\n",
    "\n",
    "rating_3_cnt = pd.DataFrame(rating_3.groupby(['year']).size())\n",
    "rating_3_cnt = rating_3_cnt.reset_index()\n",
    "rating_3_cnt.columns = ['year', 'cnt']"
   ]
  },
  {
   "cell_type": "code",
   "execution_count": 10,
   "metadata": {},
   "outputs": [],
   "source": [
    "# get 5 year buckets\n",
    "bechdel['5_year'] = (bechdel['year']//5)*5"
   ]
  },
  {
   "cell_type": "code",
   "execution_count": 11,
   "metadata": {
    "collapsed": true
   },
   "outputs": [],
   "source": [
    "# group movies by year and rating\n",
    "ratings_by_year = pd.DataFrame(bechdel.groupby(['5_year', 'bechdel_rating']).size()).reset_index()\n",
    "ratings_by_year.columns = ['5_year', 'bechdel_rating', 'num_movies']\n",
    "\n",
    "num_movies_by_year = pd.DataFrame(bechdel.groupby(['5_year']).size()).reset_index()\n",
    "num_movies_by_year.columns = ['5_year', 'tot_movies']"
   ]
  },
  {
   "cell_type": "code",
   "execution_count": 13,
   "metadata": {
    "collapsed": true,
    "scrolled": true
   },
   "outputs": [],
   "source": [
    "# get percent for use in plot\n",
    "movies = pd.merge(ratings_by_year, num_movies_by_year, on='5_year', how='left')\n",
    "movies['percent'] = movies['num_movies']/movies['tot_movies']"
   ]
  },
  {
   "cell_type": "code",
   "execution_count": 14,
   "metadata": {},
   "outputs": [],
   "source": [
    "# split data for plotting\n",
    "movies_pct_0 = movies[(movies['bechdel_rating'] == 0) & (movies['5_year'] > 1926) & (movies['5_year'] < 2018)]\n",
    "movies_pct_1 = movies[(movies['bechdel_rating'] == 1) & (movies['5_year'] > 1926) & (movies['5_year'] < 2018)]\n",
    "movies_pct_2 = movies[(movies['bechdel_rating'] == 2) & (movies['5_year'] > 1926) & (movies['5_year'] < 2018)]\n",
    "movies_pct_3 = movies[(movies['bechdel_rating'] == 3) & (movies['5_year'] > 1926) & (movies['5_year'] < 2018)]"
   ]
  },
  {
   "cell_type": "code",
   "execution_count": 15,
   "metadata": {},
   "outputs": [
    {
     "data": {
      "application/vnd.plotly.v1+json": {
       "data": [
        {
         "marker": {
          "color": "rgb(95, 194, 204)",
          "line": {
           "color": "rgb(73, 59, 59)",
           "width": 1.5
          }
         },
         "name": "3 - Passed, has two women in it who talk to each other about something other than a man",
         "type": "bar",
         "x": [
          1930,
          1935,
          1940,
          1945,
          1950,
          1955,
          1960,
          1965,
          1970,
          1975,
          1980,
          1985,
          1990,
          1995,
          2000,
          2005,
          2010,
          2015
         ],
         "y": [
          0.5113636363636364,
          0.45544554455445546,
          0.5137614678899083,
          0.44329896907216493,
          0.4666666666666667,
          0.4647887323943662,
          0.4906832298136646,
          0.39869281045751637,
          0.4857142857142857,
          0.4774193548387097,
          0.5063829787234042,
          0.5709876543209876,
          0.5456790123456791,
          0.6075731497418244,
          0.6084262701363073,
          0.6087981146897093,
          0.6285397001665741,
          0.6645326504481434
         ]
        },
        {
         "marker": {
          "color": "rgb(242, 92, 92)",
          "line": {
           "color": "rgb(73, 59, 59)",
           "width": 1.5
          }
         },
         "name": "2 - Faied but has two women in it who talk to each other",
         "type": "bar",
         "x": [
          1930,
          1935,
          1940,
          1945,
          1950,
          1955,
          1960,
          1965,
          1970,
          1975,
          1980,
          1985,
          1990,
          1995,
          2000,
          2005,
          2010,
          2015
         ],
         "y": [
          0.10227272727272728,
          0.32673267326732675,
          0.12844036697247707,
          0.20618556701030927,
          0.14285714285714285,
          0.15492957746478872,
          0.13043478260869565,
          0.08496732026143791,
          0.13142857142857142,
          0.0967741935483871,
          0.10638297872340426,
          0.10185185185185185,
          0.09382716049382717,
          0.0981067125645439,
          0.09045848822800495,
          0.08483896307934014,
          0.08717379233759023,
          0.08578745198463508
         ]
        },
        {
         "marker": {
          "color": "rgb(219, 65, 65)",
          "line": {
           "color": "rgb(73, 59, 59)",
           "width": 1.5
          }
         },
         "name": "1 - Faied but has two women in it",
         "type": "bar",
         "x": [
          1930,
          1935,
          1940,
          1945,
          1950,
          1955,
          1960,
          1965,
          1970,
          1975,
          1980,
          1985,
          1990,
          1995,
          2000,
          2005,
          2010,
          2015
         ],
         "y": [
          0.25,
          0.13861386138613863,
          0.21100917431192662,
          0.1958762886597938,
          0.2571428571428571,
          0.22535211267605634,
          0.2111801242236025,
          0.3006535947712418,
          0.28,
          0.2903225806451613,
          0.25957446808510637,
          0.21296296296296297,
          0.23950617283950618,
          0.24268502581755594,
          0.218091697645601,
          0.22859387274155538,
          0.2082176568573015,
          0.18053777208706787
         ]
        },
        {
         "marker": {
          "color": "rgb(183, 42, 42)",
          "line": {
           "color": "rgb(73, 59, 59)",
           "width": 1.5
          }
         },
         "name": "0 - Failed",
         "type": "bar",
         "x": [
          1930,
          1935,
          1940,
          1945,
          1950,
          1955,
          1960,
          1965,
          1970,
          1975,
          1980,
          1985,
          1990,
          1995,
          2000,
          2005,
          2010,
          2015
         ],
         "y": [
          0.13636363636363635,
          0.07920792079207921,
          0.14678899082568808,
          0.15463917525773196,
          0.13333333333333333,
          0.15492957746478872,
          0.16770186335403728,
          0.21568627450980393,
          0.10285714285714286,
          0.13548387096774195,
          0.1276595744680851,
          0.11419753086419752,
          0.12098765432098765,
          0.05163511187607573,
          0.08302354399008674,
          0.07776904948939513,
          0.07606885063853415,
          0.06914212548015365
         ]
        }
       ],
       "layout": {
        "barmode": "stack",
        "legend": {
         "orientation": "h",
         "x": 0.5,
         "xanchor": "center"
        },
        "title": "Bechdel Pass Rate by Year",
        "titlefont": {
         "family": "Oswald, sans-serif",
         "size": 18
        },
        "yaxis": {
         "tickformat": "%"
        }
       }
      },
      "text/html": [
       "<div id=\"2bc98f78-32a9-4c8a-a86f-c69dbc678b37\" style=\"height: 525px; width: 100%;\" class=\"plotly-graph-div\"></div><script type=\"text/javascript\">require([\"plotly\"], function(Plotly) { window.PLOTLYENV=window.PLOTLYENV || {};window.PLOTLYENV.BASE_URL=\"https://plot.ly\";Plotly.newPlot(\"2bc98f78-32a9-4c8a-a86f-c69dbc678b37\", [{\"marker\": {\"color\": \"rgb(95, 194, 204)\", \"line\": {\"color\": \"rgb(73, 59, 59)\", \"width\": 1.5}}, \"y\": [0.5113636363636364, 0.45544554455445546, 0.5137614678899083, 0.44329896907216493, 0.4666666666666667, 0.4647887323943662, 0.4906832298136646, 0.39869281045751637, 0.4857142857142857, 0.4774193548387097, 0.5063829787234042, 0.5709876543209876, 0.5456790123456791, 0.6075731497418244, 0.6084262701363073, 0.6087981146897093, 0.6285397001665741, 0.6645326504481434], \"type\": \"bar\", \"name\": \"3 - Passed, has two women in it who talk to each other about something other than a man\", \"x\": [1930, 1935, 1940, 1945, 1950, 1955, 1960, 1965, 1970, 1975, 1980, 1985, 1990, 1995, 2000, 2005, 2010, 2015]}, {\"marker\": {\"color\": \"rgb(242, 92, 92)\", \"line\": {\"color\": \"rgb(73, 59, 59)\", \"width\": 1.5}}, \"y\": [0.10227272727272728, 0.32673267326732675, 0.12844036697247707, 0.20618556701030927, 0.14285714285714285, 0.15492957746478872, 0.13043478260869565, 0.08496732026143791, 0.13142857142857142, 0.0967741935483871, 0.10638297872340426, 0.10185185185185185, 0.09382716049382717, 0.0981067125645439, 0.09045848822800495, 0.08483896307934014, 0.08717379233759023, 0.08578745198463508], \"type\": \"bar\", \"name\": \"2 - Faied but has two women in it who talk to each other\", \"x\": [1930, 1935, 1940, 1945, 1950, 1955, 1960, 1965, 1970, 1975, 1980, 1985, 1990, 1995, 2000, 2005, 2010, 2015]}, {\"marker\": {\"color\": \"rgb(219, 65, 65)\", \"line\": {\"color\": \"rgb(73, 59, 59)\", \"width\": 1.5}}, \"y\": [0.25, 0.13861386138613863, 0.21100917431192662, 0.1958762886597938, 0.2571428571428571, 0.22535211267605634, 0.2111801242236025, 0.3006535947712418, 0.28, 0.2903225806451613, 0.25957446808510637, 0.21296296296296297, 0.23950617283950618, 0.24268502581755594, 0.218091697645601, 0.22859387274155538, 0.2082176568573015, 0.18053777208706787], \"type\": \"bar\", \"name\": \"1 - Faied but has two women in it\", \"x\": [1930, 1935, 1940, 1945, 1950, 1955, 1960, 1965, 1970, 1975, 1980, 1985, 1990, 1995, 2000, 2005, 2010, 2015]}, {\"marker\": {\"color\": \"rgb(183, 42, 42)\", \"line\": {\"color\": \"rgb(73, 59, 59)\", \"width\": 1.5}}, \"y\": [0.13636363636363635, 0.07920792079207921, 0.14678899082568808, 0.15463917525773196, 0.13333333333333333, 0.15492957746478872, 0.16770186335403728, 0.21568627450980393, 0.10285714285714286, 0.13548387096774195, 0.1276595744680851, 0.11419753086419752, 0.12098765432098765, 0.05163511187607573, 0.08302354399008674, 0.07776904948939513, 0.07606885063853415, 0.06914212548015365], \"type\": \"bar\", \"name\": \"0 - Failed\", \"x\": [1930, 1935, 1940, 1945, 1950, 1955, 1960, 1965, 1970, 1975, 1980, 1985, 1990, 1995, 2000, 2005, 2010, 2015]}], {\"barmode\": \"stack\", \"title\": \"Bechdel Pass Rate by Year\", \"titlefont\": {\"family\": \"Oswald, sans-serif\", \"size\": 18}, \"legend\": {\"x\": 0.5, \"xanchor\": \"center\", \"orientation\": \"h\"}, \"yaxis\": {\"tickformat\": \"%\"}}, {\"linkText\": \"Export to plot.ly\", \"showLink\": true})});</script>"
      ],
      "text/vnd.plotly.v1+html": [
       "<div id=\"2bc98f78-32a9-4c8a-a86f-c69dbc678b37\" style=\"height: 525px; width: 100%;\" class=\"plotly-graph-div\"></div><script type=\"text/javascript\">require([\"plotly\"], function(Plotly) { window.PLOTLYENV=window.PLOTLYENV || {};window.PLOTLYENV.BASE_URL=\"https://plot.ly\";Plotly.newPlot(\"2bc98f78-32a9-4c8a-a86f-c69dbc678b37\", [{\"marker\": {\"color\": \"rgb(95, 194, 204)\", \"line\": {\"color\": \"rgb(73, 59, 59)\", \"width\": 1.5}}, \"y\": [0.5113636363636364, 0.45544554455445546, 0.5137614678899083, 0.44329896907216493, 0.4666666666666667, 0.4647887323943662, 0.4906832298136646, 0.39869281045751637, 0.4857142857142857, 0.4774193548387097, 0.5063829787234042, 0.5709876543209876, 0.5456790123456791, 0.6075731497418244, 0.6084262701363073, 0.6087981146897093, 0.6285397001665741, 0.6645326504481434], \"type\": \"bar\", \"name\": \"3 - Passed, has two women in it who talk to each other about something other than a man\", \"x\": [1930, 1935, 1940, 1945, 1950, 1955, 1960, 1965, 1970, 1975, 1980, 1985, 1990, 1995, 2000, 2005, 2010, 2015]}, {\"marker\": {\"color\": \"rgb(242, 92, 92)\", \"line\": {\"color\": \"rgb(73, 59, 59)\", \"width\": 1.5}}, \"y\": [0.10227272727272728, 0.32673267326732675, 0.12844036697247707, 0.20618556701030927, 0.14285714285714285, 0.15492957746478872, 0.13043478260869565, 0.08496732026143791, 0.13142857142857142, 0.0967741935483871, 0.10638297872340426, 0.10185185185185185, 0.09382716049382717, 0.0981067125645439, 0.09045848822800495, 0.08483896307934014, 0.08717379233759023, 0.08578745198463508], \"type\": \"bar\", \"name\": \"2 - Faied but has two women in it who talk to each other\", \"x\": [1930, 1935, 1940, 1945, 1950, 1955, 1960, 1965, 1970, 1975, 1980, 1985, 1990, 1995, 2000, 2005, 2010, 2015]}, {\"marker\": {\"color\": \"rgb(219, 65, 65)\", \"line\": {\"color\": \"rgb(73, 59, 59)\", \"width\": 1.5}}, \"y\": [0.25, 0.13861386138613863, 0.21100917431192662, 0.1958762886597938, 0.2571428571428571, 0.22535211267605634, 0.2111801242236025, 0.3006535947712418, 0.28, 0.2903225806451613, 0.25957446808510637, 0.21296296296296297, 0.23950617283950618, 0.24268502581755594, 0.218091697645601, 0.22859387274155538, 0.2082176568573015, 0.18053777208706787], \"type\": \"bar\", \"name\": \"1 - Faied but has two women in it\", \"x\": [1930, 1935, 1940, 1945, 1950, 1955, 1960, 1965, 1970, 1975, 1980, 1985, 1990, 1995, 2000, 2005, 2010, 2015]}, {\"marker\": {\"color\": \"rgb(183, 42, 42)\", \"line\": {\"color\": \"rgb(73, 59, 59)\", \"width\": 1.5}}, \"y\": [0.13636363636363635, 0.07920792079207921, 0.14678899082568808, 0.15463917525773196, 0.13333333333333333, 0.15492957746478872, 0.16770186335403728, 0.21568627450980393, 0.10285714285714286, 0.13548387096774195, 0.1276595744680851, 0.11419753086419752, 0.12098765432098765, 0.05163511187607573, 0.08302354399008674, 0.07776904948939513, 0.07606885063853415, 0.06914212548015365], \"type\": \"bar\", \"name\": \"0 - Failed\", \"x\": [1930, 1935, 1940, 1945, 1950, 1955, 1960, 1965, 1970, 1975, 1980, 1985, 1990, 1995, 2000, 2005, 2010, 2015]}], {\"barmode\": \"stack\", \"title\": \"Bechdel Pass Rate by Year\", \"titlefont\": {\"family\": \"Oswald, sans-serif\", \"size\": 18}, \"legend\": {\"x\": 0.5, \"xanchor\": \"center\", \"orientation\": \"h\"}, \"yaxis\": {\"tickformat\": \"%\"}}, {\"linkText\": \"Export to plot.ly\", \"showLink\": true})});</script>"
      ]
     },
     "metadata": {},
     "output_type": "display_data"
    }
   ],
   "source": [
    "# Create traces\n",
    "trace0 = go.Bar(\n",
    "    x = movies_pct_0['5_year'],\n",
    "    y = movies_pct_0.percent,\n",
    "    name = '0 - Failed',\n",
    "    marker=dict(\n",
    "        color='rgb(183, 42, 42)',\n",
    "        line=dict(\n",
    "            color='rgb(73, 59, 59)',\n",
    "            width=1.5),\n",
    "        ),\n",
    ")\n",
    "trace1 = go.Bar(\n",
    "    x = movies_pct_1['5_year'],\n",
    "    y = movies_pct_1.percent,\n",
    "    name = '1 - Faied but has two women in it',\n",
    "    marker=dict(\n",
    "        color='rgb(219, 65, 65)',\n",
    "        line=dict(\n",
    "            color='rgb(73, 59, 59)',\n",
    "            width=1.5),\n",
    "        ),\n",
    ")\n",
    "trace2 = go.Bar(\n",
    "    x = movies_pct_2['5_year'],\n",
    "    y = movies_pct_2.percent,\n",
    "    name = '2 - Faied but has two women in it who talk to each other',\n",
    "    marker=dict(\n",
    "        color='rgb(242, 92, 92)',\n",
    "        line=dict(\n",
    "            color='rgb(73, 59, 59)',\n",
    "            width=1.5),\n",
    "        ),\n",
    ")\n",
    "trace3 = go.Bar(\n",
    "    x = movies_pct_3['5_year'],\n",
    "    y = movies_pct_3.percent,\n",
    "    name = '3 - Passed, has two women in it who talk to each other about something other than a man',\n",
    "    marker=dict(\n",
    "        color='rgb(95, 194, 204)',\n",
    "        line=dict(\n",
    "            color='rgb(73, 59, 59)',\n",
    "            width=1.5),\n",
    "        ),\n",
    ")\n",
    "data = [trace3, trace2, trace1, trace0]\n",
    "layout = go.Layout(title='Bechdel Pass Rate by Year', barmode='stack', \n",
    "                   titlefont=dict(size =18, family='Oswald, sans-serif'),\n",
    "                   yaxis=dict(tickformat=\"%\"), \n",
    "                   legend = dict(orientation = \"h\",xanchor = \"center\",x = 0.5))\n",
    "fig = go.Figure(data=data, layout=layout)\n",
    "\n",
    "plotly.offline.iplot(fig)\n",
    "\n",
    "#export html code\n",
    "plotly.offline.plot(fig, filename='ratings_by_year.html', auto_open = False)"
   ]
  },
  {
   "cell_type": "markdown",
   "metadata": {},
   "source": [
    "### Gender Plot"
   ]
  },
  {
   "cell_type": "markdown",
   "metadata": {},
   "source": [
    "These plots take the top 15 most prolific actors and actresses and plots their pass rates in two bar charts"
   ]
  },
  {
   "cell_type": "code",
   "execution_count": 16,
   "metadata": {},
   "outputs": [
    {
     "data": {
      "text/plain": [
       "Male      8958\n",
       "Female    6034\n",
       "Name: gender, dtype: int64"
      ]
     },
     "execution_count": 16,
     "metadata": {},
     "output_type": "execute_result"
    }
   ],
   "source": [
    "# only get data for actresses and actors and check value counts\n",
    "actors = cast[cast.category.isin(['actor', 'actress'])]\n",
    "actors.gender.value_counts()"
   ]
  },
  {
   "cell_type": "code",
   "execution_count": 17,
   "metadata": {},
   "outputs": [
    {
     "data": {
      "text/plain": [
       "9102"
      ]
     },
     "execution_count": 17,
     "metadata": {},
     "output_type": "execute_result"
    }
   ],
   "source": [
    "# check number unqiue actors\n",
    "actors.nconst.nunique()"
   ]
  },
  {
   "cell_type": "code",
   "execution_count": 25,
   "metadata": {},
   "outputs": [
    {
     "data": {
      "text/plain": [
       "gender\n",
       "Female    3785\n",
       "Male      5317\n",
       "Name: nconst, dtype: int64"
      ]
     },
     "execution_count": 25,
     "metadata": {},
     "output_type": "execute_result"
    }
   ],
   "source": [
    "# check number unqiue actors by gender\n",
    "actors.nconst.groupby([actors.gender]).nunique()"
   ]
  },
  {
   "cell_type": "code",
   "execution_count": 26,
   "metadata": {},
   "outputs": [
    {
     "data": {
      "text/plain": [
       "3679"
      ]
     },
     "execution_count": 26,
     "metadata": {},
     "output_type": "execute_result"
    }
   ],
   "source": [
    "# check number unique movies\n",
    "actors.tconst.nunique()"
   ]
  },
  {
   "cell_type": "code",
   "execution_count": 19,
   "metadata": {},
   "outputs": [
    {
     "data": {
      "text/plain": [
       "gender\n",
       "Female    3282\n",
       "Male      3534\n",
       "Name: tconst, dtype: int64"
      ]
     },
     "execution_count": 19,
     "metadata": {},
     "output_type": "execute_result"
    }
   ],
   "source": [
    "# check number unique movies by gender\n",
    "actors.tconst.groupby([actors.gender]).nunique()"
   ]
  },
  {
   "cell_type": "code",
   "execution_count": 22,
   "metadata": {},
   "outputs": [
    {
     "data": {
      "image/png": "[encoded data removed]",
      "text/plain": [
       "<Figure size 432x288 with 1 Axes>"
      ]
     },
     "metadata": {},
     "output_type": "display_data"
    }
   ],
   "source": [
    "# plot histogram of how many movies each person is is\n",
    "plt.hist(actors.groupby('nconst').size(), 20)\n",
    "plt.show()"
   ]
  },
  {
   "cell_type": "code",
   "execution_count": 23,
   "metadata": {},
   "outputs": [
    {
     "data": {
      "text/plain": [
       "Male      39\n",
       "Female    15\n",
       "Name: gender, dtype: int64"
      ]
     },
     "execution_count": 23,
     "metadata": {},
     "output_type": "execute_result"
    }
   ],
   "source": [
    "# get only rows where actors are in more than 10 movies\n",
    "nummovies = pd.DataFrame(actors.groupby(['nconst','gender']).size().sort_values(ascending=False))\n",
    "nummovies = nummovies.reset_index()\n",
    "nummovies.columns = ['nconst', 'gender', 'tot_movie_cnt']\n",
    "nummovies[nummovies.tot_movie_cnt > 10]['gender'].value_counts()"
   ]
  },
  {
   "cell_type": "code",
   "execution_count": 24,
   "metadata": {},
   "outputs": [],
   "source": [
    "# get top 15 actors and actresses by number of movies\n",
    "topguys = nummovies[nummovies.gender == 'Male'].head(16)\n",
    "topgals = nummovies[nummovies.gender == 'Female'].head(15)\n",
    "topactors = pd.concat([topgals, topguys], ignore_index=True)"
   ]
  },
  {
   "cell_type": "code",
   "execution_count": 25,
   "metadata": {
    "scrolled": true
   },
   "outputs": [],
   "source": [
    "# merge to get name\n",
    "topactorsdata = pd.merge(actors, topactors, on =['nconst'])\n",
    "topactorsdata = topactorsdata[topactorsdata['primaryName'] != 'Georges Méliès']"
   ]
  },
  {
   "cell_type": "code",
   "execution_count": 26,
   "metadata": {
    "collapsed": true
   },
   "outputs": [],
   "source": [
    "# sort on number of movies\n",
    "data = pd.merge(bechdel, topactorsdata, on =['tconst'])\n",
    "data = data.sort_values(['tot_movie_cnt'], ascending=False)"
   ]
  },
  {
   "cell_type": "code",
   "execution_count": 27,
   "metadata": {
    "collapsed": true
   },
   "outputs": [],
   "source": [
    "# group by name and rating\n",
    "data2 = data.groupby(['primaryName','gender_x','bechdel_rating','tot_movie_cnt']).size()\n",
    "data2 = data2.reset_index()\n",
    "data2.columns = ['name', 'gender', 'bechdel_rating', 'tot_movie_cnt', 'movie_cnt']"
   ]
  },
  {
   "cell_type": "code",
   "execution_count": 28,
   "metadata": {
    "collapsed": true
   },
   "outputs": [],
   "source": [
    "# split males and females data for plotting\n",
    "guys = data2[data2.gender == 'Male']\n",
    "guys = guys.sort_values(['tot_movie_cnt'], ascending=True)\n",
    "gals = data2[data2.gender == 'Female']\n",
    "gals = gals.sort_values(['tot_movie_cnt'], ascending=True)"
   ]
  },
  {
   "cell_type": "code",
   "execution_count": 29,
   "metadata": {
    "collapsed": true
   },
   "outputs": [],
   "source": [
    "# split rating for plotting\n",
    "guys_0 = guys[(guys['bechdel_rating'] == 0)]\n",
    "guys_1 = guys[(guys['bechdel_rating'] == 1)]\n",
    "guys_2 = guys[(guys['bechdel_rating'] == 2)]\n",
    "guys_3 = guys[(guys['bechdel_rating'] == 3)]"
   ]
  },
  {
   "cell_type": "code",
   "execution_count": 30,
   "metadata": {},
   "outputs": [
    {
     "data": {
      "application/vnd.plotly.v1+json": {
       "data": [
        {
         "marker": {
          "color": "rgb(95, 194, 204)",
          "line": {
           "color": "rgb(73, 59, 59)",
           "width": 1.5
          }
         },
         "name": "3 - Passed, has two women in it who talk to each other about something other than a man",
         "orientation": "h",
         "type": "bar",
         "x": [
          9,
          4,
          4,
          3,
          5,
          6,
          7,
          6,
          6,
          5,
          4,
          11,
          10,
          5,
          9
         ],
         "y": [
          "Antonio Banderas",
          "Clint Eastwood",
          "Matt Damon",
          "Harrison Ford",
          "Ewan McGregor",
          "Bruce Willis",
          "Michael Caine",
          "Tom Cruise",
          "Johnny Depp",
          "Brad Pitt",
          "Robert De Niro",
          "Samuel L. Jackson",
          "John Cusack",
          "Tom Hanks",
          "Morgan Freeman"
         ]
        },
        {
         "marker": {
          "color": "rgb(242, 92, 92)",
          "line": {
           "color": "rgb(73, 59, 59)",
           "width": 1.5
          }
         },
         "name": "2 - Failed, but has two women in it who talk to each other",
         "orientation": "h",
         "type": "bar",
         "x": [
          1,
          3,
          1,
          1,
          5,
          1,
          2,
          1,
          1,
          1,
          1,
          2,
          2,
          4,
          1
         ],
         "y": [
          "Antonio Banderas",
          "Clint Eastwood",
          "Matt Damon",
          "Harrison Ford",
          "Ewan McGregor",
          "Bruce Willis",
          "Michael Caine",
          "Tom Cruise",
          "Johnny Depp",
          "Brad Pitt",
          "Robert De Niro",
          "Tom Hanks",
          "Samuel L. Jackson",
          "John Cusack",
          "Morgan Freeman"
         ]
        },
        {
         "marker": {
          "color": "rgb(219, 65, 65)",
          "line": {
           "color": "rgb(73, 59, 59)",
           "width": 1.5
          }
         },
         "name": "1 - Failed, but has two women in it",
         "orientation": "h",
         "type": "bar",
         "x": [
          3,
          3,
          6,
          7,
          3,
          5,
          6,
          5,
          8,
          9,
          11,
          3,
          4,
          9,
          7
         ],
         "y": [
          "Antonio Banderas",
          "Clint Eastwood",
          "Harrison Ford",
          "Bruce Willis",
          "Ewan McGregor",
          "Matt Damon",
          "Tom Cruise",
          "Michael Caine",
          "Johnny Depp",
          "Brad Pitt",
          "Robert De Niro",
          "Samuel L. Jackson",
          "John Cusack",
          "Tom Hanks",
          "Morgan Freeman"
         ]
        },
        {
         "marker": {
          "color": "rgb(183, 42, 42)",
          "line": {
           "color": "rgb(73, 59, 59)",
           "width": 1.5
          }
         },
         "name": "0 - Failed, doesn't have two leading women in it",
         "orientation": "h",
         "type": "bar",
         "x": [
          3,
          4,
          1,
          4,
          2,
          1,
          2,
          1,
          2,
          2,
          2
         ],
         "y": [
          "Clint Eastwood",
          "Harrison Ford",
          "Ewan McGregor",
          "Matt Damon",
          "Tom Cruise",
          "Michael Caine",
          "Brad Pitt",
          "Robert De Niro",
          "Samuel L. Jackson",
          "Tom Hanks",
          "Morgan Freeman"
         ]
        }
       ],
       "layout": {
        "barmode": "stack",
        "legend": {
         "orientation": "h",
         "x": 0.5,
         "xanchor": "center"
        },
        "margin": {
         "l": 150,
         "pad": 4
        },
        "title": "Bechdel Pass Ratings of Movies Starred in by Top Actors",
        "titlefont": {
         "family": "Oswald, sans-serif",
         "size": 18
        }
       }
      },
      "text/html": [
       "<div id=\"3f3f7503-3954-4341-b127-68129ad5dd10\" style=\"height: 525px; width: 100%;\" class=\"plotly-graph-div\"></div><script type=\"text/javascript\">require([\"plotly\"], function(Plotly) { window.PLOTLYENV=window.PLOTLYENV || {};window.PLOTLYENV.BASE_URL=\"https://plot.ly\";Plotly.newPlot(\"3f3f7503-3954-4341-b127-68129ad5dd10\", [{\"orientation\": \"h\", \"marker\": {\"color\": \"rgb(95, 194, 204)\", \"line\": {\"color\": \"rgb(73, 59, 59)\", \"width\": 1.5}}, \"y\": [\"Antonio Banderas\", \"Clint Eastwood\", \"Matt Damon\", \"Harrison Ford\", \"Ewan McGregor\", \"Bruce Willis\", \"Michael Caine\", \"Tom Cruise\", \"Johnny Depp\", \"Brad Pitt\", \"Robert De Niro\", \"Samuel L. Jackson\", \"John Cusack\", \"Tom Hanks\", \"Morgan Freeman\"], \"x\": [9, 4, 4, 3, 5, 6, 7, 6, 6, 5, 4, 11, 10, 5, 9], \"type\": \"bar\", \"name\": \"3 - Passed, has two women in it who talk to each other about something other than a man\"}, {\"orientation\": \"h\", \"marker\": {\"color\": \"rgb(242, 92, 92)\", \"line\": {\"color\": \"rgb(73, 59, 59)\", \"width\": 1.5}}, \"y\": [\"Antonio Banderas\", \"Clint Eastwood\", \"Matt Damon\", \"Harrison Ford\", \"Ewan McGregor\", \"Bruce Willis\", \"Michael Caine\", \"Tom Cruise\", \"Johnny Depp\", \"Brad Pitt\", \"Robert De Niro\", \"Tom Hanks\", \"Samuel L. Jackson\", \"John Cusack\", \"Morgan Freeman\"], \"x\": [1, 3, 1, 1, 5, 1, 2, 1, 1, 1, 1, 2, 2, 4, 1], \"type\": \"bar\", \"name\": \"2 - Failed, but has two women in it who talk to each other\"}, {\"orientation\": \"h\", \"marker\": {\"color\": \"rgb(219, 65, 65)\", \"line\": {\"color\": \"rgb(73, 59, 59)\", \"width\": 1.5}}, \"y\": [\"Antonio Banderas\", \"Clint Eastwood\", \"Harrison Ford\", \"Bruce Willis\", \"Ewan McGregor\", \"Matt Damon\", \"Tom Cruise\", \"Michael Caine\", \"Johnny Depp\", \"Brad Pitt\", \"Robert De Niro\", \"Samuel L. Jackson\", \"John Cusack\", \"Tom Hanks\", \"Morgan Freeman\"], \"x\": [3, 3, 6, 7, 3, 5, 6, 5, 8, 9, 11, 3, 4, 9, 7], \"type\": \"bar\", \"name\": \"1 - Failed, but has two women in it\"}, {\"orientation\": \"h\", \"marker\": {\"color\": \"rgb(183, 42, 42)\", \"line\": {\"color\": \"rgb(73, 59, 59)\", \"width\": 1.5}}, \"y\": [\"Clint Eastwood\", \"Harrison Ford\", \"Ewan McGregor\", \"Matt Damon\", \"Tom Cruise\", \"Michael Caine\", \"Brad Pitt\", \"Robert De Niro\", \"Samuel L. Jackson\", \"Tom Hanks\", \"Morgan Freeman\"], \"x\": [3, 4, 1, 4, 2, 1, 2, 1, 2, 2, 2], \"type\": \"bar\", \"name\": \"0 - Failed, doesn't have two leading women in it\"}], {\"barmode\": \"stack\", \"margin\": {\"pad\": 4, \"l\": 150}, \"legend\": {\"x\": 0.5, \"xanchor\": \"center\", \"orientation\": \"h\"}, \"titlefont\": {\"family\": \"Oswald, sans-serif\", \"size\": 18}, \"title\": \"Bechdel Pass Ratings of Movies Starred in by Top Actors\"}, {\"linkText\": \"Export to plot.ly\", \"showLink\": true})});</script>"
      ],
      "text/vnd.plotly.v1+html": [
       "<div id=\"3f3f7503-3954-4341-b127-68129ad5dd10\" style=\"height: 525px; width: 100%;\" class=\"plotly-graph-div\"></div><script type=\"text/javascript\">require([\"plotly\"], function(Plotly) { window.PLOTLYENV=window.PLOTLYENV || {};window.PLOTLYENV.BASE_URL=\"https://plot.ly\";Plotly.newPlot(\"3f3f7503-3954-4341-b127-68129ad5dd10\", [{\"orientation\": \"h\", \"marker\": {\"color\": \"rgb(95, 194, 204)\", \"line\": {\"color\": \"rgb(73, 59, 59)\", \"width\": 1.5}}, \"y\": [\"Antonio Banderas\", \"Clint Eastwood\", \"Matt Damon\", \"Harrison Ford\", \"Ewan McGregor\", \"Bruce Willis\", \"Michael Caine\", \"Tom Cruise\", \"Johnny Depp\", \"Brad Pitt\", \"Robert De Niro\", \"Samuel L. Jackson\", \"John Cusack\", \"Tom Hanks\", \"Morgan Freeman\"], \"x\": [9, 4, 4, 3, 5, 6, 7, 6, 6, 5, 4, 11, 10, 5, 9], \"type\": \"bar\", \"name\": \"3 - Passed, has two women in it who talk to each other about something other than a man\"}, {\"orientation\": \"h\", \"marker\": {\"color\": \"rgb(242, 92, 92)\", \"line\": {\"color\": \"rgb(73, 59, 59)\", \"width\": 1.5}}, \"y\": [\"Antonio Banderas\", \"Clint Eastwood\", \"Matt Damon\", \"Harrison Ford\", \"Ewan McGregor\", \"Bruce Willis\", \"Michael Caine\", \"Tom Cruise\", \"Johnny Depp\", \"Brad Pitt\", \"Robert De Niro\", \"Tom Hanks\", \"Samuel L. Jackson\", \"John Cusack\", \"Morgan Freeman\"], \"x\": [1, 3, 1, 1, 5, 1, 2, 1, 1, 1, 1, 2, 2, 4, 1], \"type\": \"bar\", \"name\": \"2 - Failed, but has two women in it who talk to each other\"}, {\"orientation\": \"h\", \"marker\": {\"color\": \"rgb(219, 65, 65)\", \"line\": {\"color\": \"rgb(73, 59, 59)\", \"width\": 1.5}}, \"y\": [\"Antonio Banderas\", \"Clint Eastwood\", \"Harrison Ford\", \"Bruce Willis\", \"Ewan McGregor\", \"Matt Damon\", \"Tom Cruise\", \"Michael Caine\", \"Johnny Depp\", \"Brad Pitt\", \"Robert De Niro\", \"Samuel L. Jackson\", \"John Cusack\", \"Tom Hanks\", \"Morgan Freeman\"], \"x\": [3, 3, 6, 7, 3, 5, 6, 5, 8, 9, 11, 3, 4, 9, 7], \"type\": \"bar\", \"name\": \"1 - Failed, but has two women in it\"}, {\"orientation\": \"h\", \"marker\": {\"color\": \"rgb(183, 42, 42)\", \"line\": {\"color\": \"rgb(73, 59, 59)\", \"width\": 1.5}}, \"y\": [\"Clint Eastwood\", \"Harrison Ford\", \"Ewan McGregor\", \"Matt Damon\", \"Tom Cruise\", \"Michael Caine\", \"Brad Pitt\", \"Robert De Niro\", \"Samuel L. Jackson\", \"Tom Hanks\", \"Morgan Freeman\"], \"x\": [3, 4, 1, 4, 2, 1, 2, 1, 2, 2, 2], \"type\": \"bar\", \"name\": \"0 - Failed, doesn't have two leading women in it\"}], {\"barmode\": \"stack\", \"margin\": {\"pad\": 4, \"l\": 150}, \"legend\": {\"x\": 0.5, \"xanchor\": \"center\", \"orientation\": \"h\"}, \"titlefont\": {\"family\": \"Oswald, sans-serif\", \"size\": 18}, \"title\": \"Bechdel Pass Ratings of Movies Starred in by Top Actors\"}, {\"linkText\": \"Export to plot.ly\", \"showLink\": true})});</script>"
      ]
     },
     "metadata": {},
     "output_type": "display_data"
    }
   ],
   "source": [
    "# add tractes and plot\n",
    "trace0 = go.Bar(\n",
    "    y=guys_0.name,\n",
    "    x=guys_0.movie_cnt,\n",
    "    name=\"0 - Failed, doesn't have two leading women in it\",\n",
    "    orientation = 'h',\n",
    "    marker = dict(\n",
    "        color='rgb(183, 42, 42)',\n",
    "        line = dict(\n",
    "            color='rgb(73, 59, 59)',\n",
    "            width = 1.5)\n",
    "    )\n",
    "    \n",
    ")\n",
    "trace1 = go.Bar(\n",
    "    y=guys_1.name,\n",
    "    x=guys_1.movie_cnt,\n",
    "    name = '1 - Failed, but has two women in it',\n",
    "    orientation = 'h',\n",
    "    marker = dict(\n",
    "        color='rgb(219, 65, 65)',\n",
    "        line = dict(\n",
    "            color='rgb(73, 59, 59)',\n",
    "            width = 1.5)\n",
    "    )\n",
    ")\n",
    "\n",
    "trace2 = go.Bar(\n",
    "    y=guys_2.name,\n",
    "    x=guys_2.movie_cnt,\n",
    "    name = '2 - Failed, but has two women in it who talk to each other',\n",
    "    orientation = 'h',\n",
    "    marker = dict(\n",
    "        color='rgb(242, 92, 92)',\n",
    "        line = dict(\n",
    "            color='rgb(73, 59, 59)',\n",
    "            width = 1.5)\n",
    "    )\n",
    ")\n",
    "\n",
    "trace3 = go.Bar(\n",
    "    y=guys_3.name,\n",
    "    x=guys_3.movie_cnt,\n",
    "    name = '3 - Passed, has two women in it who talk to each other about something other than a man',\n",
    "    orientation = 'h',\n",
    "    marker=dict(\n",
    "        color='rgb(95, 194, 204)',\n",
    "        line=dict(\n",
    "            color='rgb(73, 59, 59)',\n",
    "            width=1.5),\n",
    "        )\n",
    ")\n",
    "\n",
    "data = [trace3, trace2, trace1, trace0]\n",
    "layout = go.Layout(title='Bechdel Pass Ratings of Movies Starred in by Top Actors', barmode='stack', \n",
    "                   titlefont=dict(size =18, family='Oswald, sans-serif'), \n",
    "                   legend = dict(orientation = \"h\",xanchor = \"center\",x = 0.5),\n",
    "                  margin=go.Margin(l=150,pad=4))\n",
    "fig = go.Figure(data=data, layout=layout)\n",
    "\n",
    "plotly.offline.iplot(fig) \n",
    "\n",
    "# export html\n",
    "plotly.offline.plot(fig, filename='topactors.html', auto_open = False)"
   ]
  },
  {
   "cell_type": "code",
   "execution_count": 31,
   "metadata": {
    "collapsed": true
   },
   "outputs": [],
   "source": [
    "# split by rating for plotting\n",
    "gals_0 = gals[(gals['bechdel_rating'] == 0)]\n",
    "gals_1 = gals[(gals['bechdel_rating'] == 1)]\n",
    "gals_2 = gals[(gals['bechdel_rating'] == 2)]\n",
    "gals_3 = gals[(gals['bechdel_rating'] == 3)]"
   ]
  },
  {
   "cell_type": "code",
   "execution_count": 32,
   "metadata": {},
   "outputs": [
    {
     "data": {
      "application/vnd.plotly.v1+json": {
       "data": [
        {
         "marker": {
          "color": "rgb(95, 194, 204)",
          "line": {
           "color": "rgb(73, 59, 59)",
           "width": 1.5
          }
         },
         "name": "3 - Passed, has two women in it who talk to each other about something other than a man",
         "orientation": "h",
         "type": "bar",
         "x": [
          8,
          10,
          9,
          7,
          8,
          8,
          8,
          8,
          9,
          12,
          8,
          14,
          10,
          12,
          14
         ],
         "y": [
          "Kate Beckinsale",
          "Katharine Hepburn",
          "Natalie Portman",
          "Rachel Weisz",
          "Reese Witherspoon",
          "Gwyneth Paltrow",
          "Kate Winslet",
          "Kirsten Dunst",
          "Scarlett Johansson",
          "Catherine Deneuve",
          "Cameron Diaz",
          "Meryl Streep",
          "Cate Blanchett",
          "Helen Mirren",
          "Julianne Moore"
         ]
        },
        {
         "marker": {
          "color": "rgb(242, 92, 92)",
          "line": {
           "color": "rgb(73, 59, 59)",
           "width": 1.5
          }
         },
         "name": "2 - Faied but has two women in it who talk to each other",
         "orientation": "h",
         "type": "bar",
         "x": [
          1,
          1,
          1,
          1,
          1,
          1,
          3,
          2,
          2,
          1
         ],
         "y": [
          "Kate Beckinsale",
          "Reese Witherspoon",
          "Gwyneth Paltrow",
          "Kate Winslet",
          "Kirsten Dunst",
          "Catherine Deneuve",
          "Scarlett Johansson",
          "Cameron Diaz",
          "Helen Mirren",
          "Julianne Moore"
         ]
        },
        {
         "marker": {
          "color": "rgb(219, 65, 65)",
          "line": {
           "color": "rgb(73, 59, 59)",
           "width": 1.5
          }
         },
         "name": "1 - Faied but has two women in it",
         "orientation": "h",
         "type": "bar",
         "x": [
          1,
          2,
          4,
          2,
          2,
          3,
          4,
          4,
          1,
          5,
          2,
          3
         ],
         "y": [
          "Kate Beckinsale",
          "Natalie Portman",
          "Rachel Weisz",
          "Reese Witherspoon",
          "Gwyneth Paltrow",
          "Kate Winslet",
          "Kirsten Dunst",
          "Cameron Diaz",
          "Meryl Streep",
          "Cate Blanchett",
          "Helen Mirren",
          "Julianne Moore"
         ]
        },
        {
         "marker": {
          "color": "rgb(183, 42, 42)",
          "line": {
           "color": "rgb(73, 59, 59)",
           "width": 1.5
          }
         },
         "name": "0 - Failed",
         "orientation": "h",
         "type": "bar",
         "x": [
          1,
          1,
          1,
          1
         ],
         "y": [
          "Katharine Hepburn",
          "Kate Beckinsale",
          "Gwyneth Paltrow",
          "Scarlett Johansson"
         ]
        }
       ],
       "layout": {
        "barmode": "stack",
        "margin": {
         "l": 150,
         "pad": 4
        },
        "showlegend": false,
        "title": "Bechdel Pass Ratings of Movies Starred in by Top Actresses",
        "titlefont": {
         "family": "Oswald, sans-serif",
         "size": 18
        },
        "yaxis": {
         "showticklabels": true,
         "tickfont": {
          "size": 12
         }
        }
       }
      },
      "text/html": [
       "<div id=\"60461837-c63a-4158-8997-fcc910d70ba4\" style=\"height: 525px; width: 100%;\" class=\"plotly-graph-div\"></div><script type=\"text/javascript\">require([\"plotly\"], function(Plotly) { window.PLOTLYENV=window.PLOTLYENV || {};window.PLOTLYENV.BASE_URL=\"https://plot.ly\";Plotly.newPlot(\"60461837-c63a-4158-8997-fcc910d70ba4\", [{\"orientation\": \"h\", \"marker\": {\"color\": \"rgb(95, 194, 204)\", \"line\": {\"color\": \"rgb(73, 59, 59)\", \"width\": 1.5}}, \"y\": [\"Kate Beckinsale\", \"Katharine Hepburn\", \"Natalie Portman\", \"Rachel Weisz\", \"Reese Witherspoon\", \"Gwyneth Paltrow\", \"Kate Winslet\", \"Kirsten Dunst\", \"Scarlett Johansson\", \"Catherine Deneuve\", \"Cameron Diaz\", \"Meryl Streep\", \"Cate Blanchett\", \"Helen Mirren\", \"Julianne Moore\"], \"x\": [8, 10, 9, 7, 8, 8, 8, 8, 9, 12, 8, 14, 10, 12, 14], \"type\": \"bar\", \"name\": \"3 - Passed, has two women in it who talk to each other about something other than a man\"}, {\"orientation\": \"h\", \"marker\": {\"color\": \"rgb(242, 92, 92)\", \"line\": {\"color\": \"rgb(73, 59, 59)\", \"width\": 1.5}}, \"y\": [\"Kate Beckinsale\", \"Reese Witherspoon\", \"Gwyneth Paltrow\", \"Kate Winslet\", \"Kirsten Dunst\", \"Catherine Deneuve\", \"Scarlett Johansson\", \"Cameron Diaz\", \"Helen Mirren\", \"Julianne Moore\"], \"x\": [1, 1, 1, 1, 1, 1, 3, 2, 2, 1], \"type\": \"bar\", \"name\": \"2 - Faied but has two women in it who talk to each other\"}, {\"orientation\": \"h\", \"marker\": {\"color\": \"rgb(219, 65, 65)\", \"line\": {\"color\": \"rgb(73, 59, 59)\", \"width\": 1.5}}, \"y\": [\"Kate Beckinsale\", \"Natalie Portman\", \"Rachel Weisz\", \"Reese Witherspoon\", \"Gwyneth Paltrow\", \"Kate Winslet\", \"Kirsten Dunst\", \"Cameron Diaz\", \"Meryl Streep\", \"Cate Blanchett\", \"Helen Mirren\", \"Julianne Moore\"], \"x\": [1, 2, 4, 2, 2, 3, 4, 4, 1, 5, 2, 3], \"type\": \"bar\", \"name\": \"1 - Faied but has two women in it\"}, {\"orientation\": \"h\", \"marker\": {\"color\": \"rgb(183, 42, 42)\", \"line\": {\"color\": \"rgb(73, 59, 59)\", \"width\": 1.5}}, \"y\": [\"Katharine Hepburn\", \"Kate Beckinsale\", \"Gwyneth Paltrow\", \"Scarlett Johansson\"], \"x\": [1, 1, 1, 1], \"type\": \"bar\", \"name\": \"0 - Failed\"}], {\"showlegend\": false, \"title\": \"Bechdel Pass Ratings of Movies Starred in by Top Actresses\", \"yaxis\": {\"tickfont\": {\"size\": 12}, \"showticklabels\": true}, \"barmode\": \"stack\", \"titlefont\": {\"family\": \"Oswald, sans-serif\", \"size\": 18}, \"margin\": {\"pad\": 4, \"l\": 150}}, {\"linkText\": \"Export to plot.ly\", \"showLink\": true})});</script>"
      ],
      "text/vnd.plotly.v1+html": [
       "<div id=\"60461837-c63a-4158-8997-fcc910d70ba4\" style=\"height: 525px; width: 100%;\" class=\"plotly-graph-div\"></div><script type=\"text/javascript\">require([\"plotly\"], function(Plotly) { window.PLOTLYENV=window.PLOTLYENV || {};window.PLOTLYENV.BASE_URL=\"https://plot.ly\";Plotly.newPlot(\"60461837-c63a-4158-8997-fcc910d70ba4\", [{\"orientation\": \"h\", \"marker\": {\"color\": \"rgb(95, 194, 204)\", \"line\": {\"color\": \"rgb(73, 59, 59)\", \"width\": 1.5}}, \"y\": [\"Kate Beckinsale\", \"Katharine Hepburn\", \"Natalie Portman\", \"Rachel Weisz\", \"Reese Witherspoon\", \"Gwyneth Paltrow\", \"Kate Winslet\", \"Kirsten Dunst\", \"Scarlett Johansson\", \"Catherine Deneuve\", \"Cameron Diaz\", \"Meryl Streep\", \"Cate Blanchett\", \"Helen Mirren\", \"Julianne Moore\"], \"x\": [8, 10, 9, 7, 8, 8, 8, 8, 9, 12, 8, 14, 10, 12, 14], \"type\": \"bar\", \"name\": \"3 - Passed, has two women in it who talk to each other about something other than a man\"}, {\"orientation\": \"h\", \"marker\": {\"color\": \"rgb(242, 92, 92)\", \"line\": {\"color\": \"rgb(73, 59, 59)\", \"width\": 1.5}}, \"y\": [\"Kate Beckinsale\", \"Reese Witherspoon\", \"Gwyneth Paltrow\", \"Kate Winslet\", \"Kirsten Dunst\", \"Catherine Deneuve\", \"Scarlett Johansson\", \"Cameron Diaz\", \"Helen Mirren\", \"Julianne Moore\"], \"x\": [1, 1, 1, 1, 1, 1, 3, 2, 2, 1], \"type\": \"bar\", \"name\": \"2 - Faied but has two women in it who talk to each other\"}, {\"orientation\": \"h\", \"marker\": {\"color\": \"rgb(219, 65, 65)\", \"line\": {\"color\": \"rgb(73, 59, 59)\", \"width\": 1.5}}, \"y\": [\"Kate Beckinsale\", \"Natalie Portman\", \"Rachel Weisz\", \"Reese Witherspoon\", \"Gwyneth Paltrow\", \"Kate Winslet\", \"Kirsten Dunst\", \"Cameron Diaz\", \"Meryl Streep\", \"Cate Blanchett\", \"Helen Mirren\", \"Julianne Moore\"], \"x\": [1, 2, 4, 2, 2, 3, 4, 4, 1, 5, 2, 3], \"type\": \"bar\", \"name\": \"1 - Faied but has two women in it\"}, {\"orientation\": \"h\", \"marker\": {\"color\": \"rgb(183, 42, 42)\", \"line\": {\"color\": \"rgb(73, 59, 59)\", \"width\": 1.5}}, \"y\": [\"Katharine Hepburn\", \"Kate Beckinsale\", \"Gwyneth Paltrow\", \"Scarlett Johansson\"], \"x\": [1, 1, 1, 1], \"type\": \"bar\", \"name\": \"0 - Failed\"}], {\"showlegend\": false, \"title\": \"Bechdel Pass Ratings of Movies Starred in by Top Actresses\", \"yaxis\": {\"tickfont\": {\"size\": 12}, \"showticklabels\": true}, \"barmode\": \"stack\", \"titlefont\": {\"family\": \"Oswald, sans-serif\", \"size\": 18}, \"margin\": {\"pad\": 4, \"l\": 150}}, {\"linkText\": \"Export to plot.ly\", \"showLink\": true})});</script>"
      ]
     },
     "metadata": {},
     "output_type": "display_data"
    },
    {
     "data": {
      "text/plain": [
       "'file:///Users/smcnish/classes/msan622/project/new/bechdel-test/code/top_actresses.html'"
      ]
     },
     "execution_count": 32,
     "metadata": {},
     "output_type": "execute_result"
    }
   ],
   "source": [
    "# add traces and plot\n",
    "trace0 = go.Bar(\n",
    "    y=gals_0.name,\n",
    "    x=gals_0.movie_cnt,\n",
    "    name='0 - Failed',\n",
    "    orientation = 'h',\n",
    "    marker = dict(\n",
    "        color='rgb(183, 42, 42)',\n",
    "        line = dict(\n",
    "            color='rgb(73, 59, 59)',\n",
    "            width = 1.5)\n",
    "    )\n",
    "    \n",
    ")\n",
    "trace1 = go.Bar(\n",
    "    y=gals_1.name,\n",
    "    x=gals_1.movie_cnt,\n",
    "    name = '1 - Faied but has two women in it',\n",
    "    orientation = 'h',\n",
    "    marker = dict(\n",
    "        color='rgb(219, 65, 65)',\n",
    "        line = dict(\n",
    "            color='rgb(73, 59, 59)',\n",
    "            width = 1.5)\n",
    "    )\n",
    ")\n",
    "\n",
    "trace2 = go.Bar(\n",
    "    y=gals_2.name,\n",
    "    x=gals_2.movie_cnt,\n",
    "    name = '2 - Faied but has two women in it who talk to each other',\n",
    "    orientation = 'h',\n",
    "    marker = dict(\n",
    "        color='rgb(242, 92, 92)',\n",
    "        line = dict(\n",
    "            color='rgb(73, 59, 59)',\n",
    "            width = 1.5)\n",
    "    )\n",
    ")\n",
    "\n",
    "trace3 = go.Bar(\n",
    "    y=gals_3.name,\n",
    "    x=gals_3.movie_cnt,\n",
    "    name = '3 - Passed, has two women in it who talk to each other about something other than a man',\n",
    "    orientation = 'h',\n",
    "    marker=dict(\n",
    "        color='rgb(95, 194, 204)',\n",
    "        line=dict(\n",
    "            color='rgb(73, 59, 59)',\n",
    "            width=1.5),\n",
    "        )\n",
    ")\n",
    "\n",
    "data = [trace3, trace2, trace1, trace0]\n",
    "layout = go.Layout(title='Bechdel Pass Ratings of Movies Starred in by Top Actresses', barmode='stack', \n",
    "                   titlefont=dict(size =18, family='Oswald, sans-serif'), \n",
    "                   yaxis=dict(tickfont=dict(size=12\n",
    "                                           ), showticklabels=True ),\n",
    "                   showlegend=False,\n",
    "                  margin=go.Margin(l=150,pad=4\n",
    "    ))\n",
    "fig = go.Figure(data=data, layout=layout)\n",
    "\n",
    "\n",
    "\n",
    "\n",
    "plotly.offline.iplot(fig)\n",
    "\n",
    "#export html\n",
    "#plotly.offline.plot(fig, filename='top_actresses.html', auto_open = False)"
   ]
  },
  {
   "cell_type": "markdown",
   "metadata": {
    "collapsed": true
   },
   "source": [
    "## Line Plot"
   ]
  },
  {
   "cell_type": "markdown",
   "metadata": {},
   "source": [
    "This plot shows trend in pass/fail rate over time as a line chart."
   ]
  },
  {
   "cell_type": "code",
   "execution_count": 33,
   "metadata": {
    "collapsed": true
   },
   "outputs": [],
   "source": [
    "# group data by rating and year\n",
    "rating = bechdel[['bechdel_rating', 'year']]\n",
    "rating = rating.groupby(['bechdel_rating', 'year']).size().reset_index(name='counts')"
   ]
  },
  {
   "cell_type": "code",
   "execution_count": 34,
   "metadata": {
    "collapsed": true
   },
   "outputs": [],
   "source": [
    "# get totals for plotting\n",
    "cols = ['year', 'tconst']\n",
    "df_sub = bechdel[cols]\n",
    "\n",
    "totals = df_sub.groupby(['year'], as_index = False).size().reset_index(name='counts')\n",
    "totals.columns = ['year', 'total']"
   ]
  },
  {
   "cell_type": "code",
   "execution_count": 35,
   "metadata": {
    "collapsed": true
   },
   "outputs": [],
   "source": [
    "# add totals to original data\n",
    "joined = pd.merge(rating, totals, on = 'year', how = 'left')"
   ]
  },
  {
   "cell_type": "code",
   "execution_count": 36,
   "metadata": {
    "collapsed": true
   },
   "outputs": [],
   "source": [
    "# add percentage for plotting\n",
    "joined['percent'] = joined['counts']/joined['total']"
   ]
  },
  {
   "cell_type": "code",
   "execution_count": 37,
   "metadata": {
    "collapsed": true
   },
   "outputs": [],
   "source": [
    "# split by rating\n",
    "joined_0 = joined.loc[joined.bechdel_rating == 0]\n",
    "joined_1 = joined.loc[joined.bechdel_rating == 1]\n",
    "joined_2 = joined.loc[joined.bechdel_rating == 2]\n",
    "joined_3 = joined.loc[joined.bechdel_rating == 3]"
   ]
  },
  {
   "cell_type": "code",
   "execution_count": 38,
   "metadata": {
    "collapsed": true
   },
   "outputs": [],
   "source": [
    "# name columns\n",
    "cols = ['year', 'percent']"
   ]
  },
  {
   "cell_type": "code",
   "execution_count": 39,
   "metadata": {
    "collapsed": true
   },
   "outputs": [],
   "source": [
    "# get only column you want\n",
    "joined_0 = joined_0[cols]\n",
    "joined_1 = joined_1[cols]\n",
    "joined_2 = joined_2[cols]\n",
    "joined_3 = joined_3[cols]"
   ]
  },
  {
   "cell_type": "code",
   "execution_count": 40,
   "metadata": {
    "collapsed": true
   },
   "outputs": [],
   "source": [
    "# rename columns\n",
    "joined_0.columns =['year', 'percent_0']\n",
    "joined_1.columns =['year', 'percent_1']\n",
    "joined_2.columns =['year', 'percent_2']\n",
    "joined_3.columns =['year', 'percent_3']"
   ]
  },
  {
   "cell_type": "code",
   "execution_count": 41,
   "metadata": {
    "collapsed": true
   },
   "outputs": [],
   "source": [
    "# join everything back together\n",
    "all1 = pd.merge(joined_0, joined_1, on = 'year', how = 'outer')\n",
    "all2 = pd.merge(joined_2, joined_3, on = 'year', how = 'outer')\n",
    "all_joined = pd.merge(all1, all2, on = 'year', how = 'outer')"
   ]
  },
  {
   "cell_type": "code",
   "execution_count": 42,
   "metadata": {},
   "outputs": [],
   "source": [
    "# fill missing values with 0\n",
    "all_joined = all_joined.fillna(0)"
   ]
  },
  {
   "cell_type": "code",
   "execution_count": 43,
   "metadata": {
    "collapsed": true
   },
   "outputs": [],
   "source": [
    "# stack and rename columns\n",
    "all_joined['failed'] = all_joined['percent_0'] + all_joined['percent_1'] + all_joined['percent_2']\n",
    "all_joined = all_joined.sort_values('year')\n",
    "all_joined.columns = ['year', 'percent_0', 'percent_1', 'percent_2', 'passed', 'failed']"
   ]
  },
  {
   "cell_type": "code",
   "execution_count": 44,
   "metadata": {
    "collapsed": true
   },
   "outputs": [],
   "source": [
    "# clip years\n",
    "all_joined2 = all_joined.loc[(all_joined.year >= 1940) & (all_joined.year < 2018)]"
   ]
  },
  {
   "cell_type": "code",
   "execution_count": 46,
   "metadata": {},
   "outputs": [
    {
     "data": {
      "application/vnd.plotly.v1+json": {
       "data": [
        {
         "fill": "tonexty",
         "marker": {
          "color": "rgb(95, 194, 204)",
          "line": {
           "color": "rgb(73, 59, 59)",
           "width": 1.5
          }
         },
         "name": "Passed",
         "type": "scatter",
         "x": [
          1940,
          1941,
          1942,
          1943,
          1944,
          1945,
          1946,
          1947,
          1948,
          1949,
          1950,
          1951,
          1952,
          1953,
          1954,
          1955,
          1956,
          1957,
          1958,
          1959,
          1960,
          1961,
          1962,
          1963,
          1964,
          1965,
          1966,
          1967,
          1968,
          1969,
          1970,
          1971,
          1972,
          1973,
          1974,
          1975,
          1976,
          1977,
          1978,
          1979,
          1980,
          1981,
          1982,
          1983,
          1984,
          1985,
          1986,
          1987,
          1988,
          1989,
          1990,
          1991,
          1992,
          1993,
          1994,
          1995,
          1996,
          1997,
          1998,
          1999,
          2000,
          2001,
          2002,
          2003,
          2004,
          2005,
          2006,
          2007,
          2008,
          2009,
          2010,
          2011,
          2012,
          2013,
          2014,
          2015,
          2016,
          2017
         ],
         "y": [
          0.5357142857142857,
          0.42857142857142855,
          0.4,
          0.5454545454545454,
          0.6666666666666666,
          0.6190476190476191,
          0.34782608695652173,
          0.35714285714285715,
          0.3333333333333333,
          0.5555555555555556,
          0.5294117647058824,
          0.6666666666666666,
          0.3333333333333333,
          0.4666666666666667,
          0.35714285714285715,
          0.5483870967741935,
          0.4444444444444444,
          0.3125,
          0.4230769230769231,
          0.6153846153846154,
          0.5925925925925926,
          0.5862068965517241,
          0.5,
          0.4411764705882353,
          0.3902439024390244,
          0.5217391304347826,
          0.2894736842105263,
          0.5,
          0.40625,
          0.3076923076923077,
          0.5172413793103449,
          0.4634146341463415,
          0.5277777777777778,
          0.4864864864864865,
          0.4375,
          0.6451612903225806,
          0.4074074074074074,
          0.47058823529411764,
          0.43333333333333335,
          0.42424242424242425,
          0.5135135135135135,
          0.5227272727272727,
          0.5094339622641509,
          0.43902439024390244,
          0.5333333333333333,
          0.5416666666666666,
          0.5087719298245614,
          0.6567164179104478,
          0.6,
          0.5396825396825397,
          0.5714285714285714,
          0.5657894736842105,
          0.49295774647887325,
          0.5652173913043478,
          0.53125,
          0.6407766990291263,
          0.6206896551724138,
          0.5794392523364486,
          0.5658914728682171,
          0.6349206349206349,
          0.6153846153846154,
          0.6477987421383647,
          0.5294117647058824,
          0.6275862068965518,
          0.6263157894736842,
          0.6326530612244898,
          0.6419753086419753,
          0.6194331983805668,
          0.6086956521739131,
          0.562874251497006,
          0.6017699115044248,
          0.6368715083798883,
          0.6345029239766082,
          0.6591478696741855,
          0.6060606060606061,
          0.6402640264026402,
          0.6457564575645757,
          0.7098445595854922
         ]
        },
        {
         "fill": "tonexty",
         "marker": {
          "color": "rgb(183, 42, 42)",
          "line": {
           "color": "rgb(73, 59, 59)",
           "width": 1.5
          }
         },
         "name": "Failed",
         "type": "scatter",
         "x": [
          1940,
          1941,
          1942,
          1943,
          1944,
          1945,
          1946,
          1947,
          1948,
          1949,
          1950,
          1951,
          1952,
          1953,
          1954,
          1955,
          1956,
          1957,
          1958,
          1959,
          1960,
          1961,
          1962,
          1963,
          1964,
          1965,
          1966,
          1967,
          1968,
          1969,
          1970,
          1971,
          1972,
          1973,
          1974,
          1975,
          1976,
          1977,
          1978,
          1979,
          1980,
          1981,
          1982,
          1983,
          1984,
          1985,
          1986,
          1987,
          1988,
          1989,
          1990,
          1991,
          1992,
          1993,
          1994,
          1995,
          1996,
          1997,
          1998,
          1999,
          2000,
          2001,
          2002,
          2003,
          2004,
          2005,
          2006,
          2007,
          2008,
          2009,
          2010,
          2011,
          2012,
          2013,
          2014,
          2015,
          2016,
          2017
         ],
         "y": [
          1,
          1,
          1,
          1,
          1,
          1,
          1,
          1,
          1,
          1,
          1,
          1,
          1,
          1,
          1,
          1,
          1,
          1,
          1,
          1,
          1,
          1,
          1,
          1,
          1,
          1,
          1,
          1,
          1,
          1,
          1,
          1,
          1,
          1,
          1,
          1,
          1,
          1,
          1,
          1,
          1,
          1,
          1,
          1,
          1,
          1,
          1,
          1,
          1,
          1,
          1,
          1,
          1,
          1,
          1,
          1,
          1,
          0.9999999999999999,
          1,
          1,
          1,
          1,
          1,
          1,
          1,
          1,
          1,
          1,
          1,
          1,
          1,
          1,
          1,
          1,
          1,
          1,
          1,
          1
         ]
        }
       ],
       "layout": {
        "title": "Bechdel Pass Rate by Year",
        "titlefont": {
         "family": "Oswald, sans-serif",
         "size": 18
        },
        "xaxis": {
         "title": "Year"
        },
        "yaxis": {
         "tickformat": "%",
         "title": "Pass Rate"
        }
       }
      },
      "text/html": [
       "<div id=\"057f2fe6-0182-4d3e-a8ae-af0307de5f19\" style=\"height: 525px; width: 100%;\" class=\"plotly-graph-div\"></div><script type=\"text/javascript\">require([\"plotly\"], function(Plotly) { window.PLOTLYENV=window.PLOTLYENV || {};window.PLOTLYENV.BASE_URL=\"https://plot.ly\";Plotly.newPlot(\"057f2fe6-0182-4d3e-a8ae-af0307de5f19\", [{\"name\": \"Passed\", \"marker\": {\"color\": \"rgb(95, 194, 204)\", \"line\": {\"color\": \"rgb(73, 59, 59)\", \"width\": 1.5}}, \"y\": [0.5357142857142857, 0.42857142857142855, 0.4, 0.5454545454545454, 0.6666666666666666, 0.6190476190476191, 0.34782608695652173, 0.35714285714285715, 0.3333333333333333, 0.5555555555555556, 0.5294117647058824, 0.6666666666666666, 0.3333333333333333, 0.4666666666666667, 0.35714285714285715, 0.5483870967741935, 0.4444444444444444, 0.3125, 0.4230769230769231, 0.6153846153846154, 0.5925925925925926, 0.5862068965517241, 0.5, 0.4411764705882353, 0.3902439024390244, 0.5217391304347826, 0.2894736842105263, 0.5, 0.40625, 0.3076923076923077, 0.5172413793103449, 0.4634146341463415, 0.5277777777777778, 0.4864864864864865, 0.4375, 0.6451612903225806, 0.4074074074074074, 0.47058823529411764, 0.43333333333333335, 0.42424242424242425, 0.5135135135135135, 0.5227272727272727, 0.5094339622641509, 0.43902439024390244, 0.5333333333333333, 0.5416666666666666, 0.5087719298245614, 0.6567164179104478, 0.6, 0.5396825396825397, 0.5714285714285714, 0.5657894736842105, 0.49295774647887325, 0.5652173913043478, 0.53125, 0.6407766990291263, 0.6206896551724138, 0.5794392523364486, 0.5658914728682171, 0.6349206349206349, 0.6153846153846154, 0.6477987421383647, 0.5294117647058824, 0.6275862068965518, 0.6263157894736842, 0.6326530612244898, 0.6419753086419753, 0.6194331983805668, 0.6086956521739131, 0.562874251497006, 0.6017699115044248, 0.6368715083798883, 0.6345029239766082, 0.6591478696741855, 0.6060606060606061, 0.6402640264026402, 0.6457564575645757, 0.7098445595854922], \"x\": [1940, 1941, 1942, 1943, 1944, 1945, 1946, 1947, 1948, 1949, 1950, 1951, 1952, 1953, 1954, 1955, 1956, 1957, 1958, 1959, 1960, 1961, 1962, 1963, 1964, 1965, 1966, 1967, 1968, 1969, 1970, 1971, 1972, 1973, 1974, 1975, 1976, 1977, 1978, 1979, 1980, 1981, 1982, 1983, 1984, 1985, 1986, 1987, 1988, 1989, 1990, 1991, 1992, 1993, 1994, 1995, 1996, 1997, 1998, 1999, 2000, 2001, 2002, 2003, 2004, 2005, 2006, 2007, 2008, 2009, 2010, 2011, 2012, 2013, 2014, 2015, 2016, 2017], \"type\": \"scatter\", \"fill\": \"tonexty\"}, {\"name\": \"Failed\", \"marker\": {\"color\": \"rgb(183, 42, 42)\", \"line\": {\"color\": \"rgb(73, 59, 59)\", \"width\": 1.5}}, \"y\": [1.0, 1.0, 1.0, 1.0, 1.0, 1.0, 1.0, 1.0, 1.0, 1.0, 1.0, 1.0, 1.0, 1.0, 1.0, 1.0, 1.0, 1.0, 1.0, 1.0, 1.0, 1.0, 1.0, 1.0, 1.0, 1.0, 1.0, 1.0, 1.0, 1.0, 1.0, 1.0, 1.0, 1.0, 1.0, 1.0, 1.0, 1.0, 1.0, 1.0, 1.0, 1.0, 1.0, 1.0, 1.0, 1.0, 1.0, 1.0, 1.0, 1.0, 1.0, 1.0, 1.0, 1.0, 1.0, 1.0, 1.0, 0.9999999999999999, 1.0, 1.0, 1.0, 1.0, 1.0, 1.0, 1.0, 1.0, 1.0, 1.0, 1.0, 1.0, 1.0, 1.0, 1.0, 1.0, 1.0, 1.0, 1.0, 1.0], \"x\": [1940, 1941, 1942, 1943, 1944, 1945, 1946, 1947, 1948, 1949, 1950, 1951, 1952, 1953, 1954, 1955, 1956, 1957, 1958, 1959, 1960, 1961, 1962, 1963, 1964, 1965, 1966, 1967, 1968, 1969, 1970, 1971, 1972, 1973, 1974, 1975, 1976, 1977, 1978, 1979, 1980, 1981, 1982, 1983, 1984, 1985, 1986, 1987, 1988, 1989, 1990, 1991, 1992, 1993, 1994, 1995, 1996, 1997, 1998, 1999, 2000, 2001, 2002, 2003, 2004, 2005, 2006, 2007, 2008, 2009, 2010, 2011, 2012, 2013, 2014, 2015, 2016, 2017], \"type\": \"scatter\", \"fill\": \"tonexty\"}], {\"title\": \"Bechdel Pass Rate by Year\", \"titlefont\": {\"family\": \"Oswald, sans-serif\", \"size\": 18}, \"xaxis\": {\"title\": \"Year\"}, \"yaxis\": {\"tickformat\": \"%\", \"title\": \"Pass Rate\"}}, {\"linkText\": \"Export to plot.ly\", \"showLink\": true})});</script>"
      ],
      "text/vnd.plotly.v1+html": [
       "<div id=\"057f2fe6-0182-4d3e-a8ae-af0307de5f19\" style=\"height: 525px; width: 100%;\" class=\"plotly-graph-div\"></div><script type=\"text/javascript\">require([\"plotly\"], function(Plotly) { window.PLOTLYENV=window.PLOTLYENV || {};window.PLOTLYENV.BASE_URL=\"https://plot.ly\";Plotly.newPlot(\"057f2fe6-0182-4d3e-a8ae-af0307de5f19\", [{\"name\": \"Passed\", \"marker\": {\"color\": \"rgb(95, 194, 204)\", \"line\": {\"color\": \"rgb(73, 59, 59)\", \"width\": 1.5}}, \"y\": [0.5357142857142857, 0.42857142857142855, 0.4, 0.5454545454545454, 0.6666666666666666, 0.6190476190476191, 0.34782608695652173, 0.35714285714285715, 0.3333333333333333, 0.5555555555555556, 0.5294117647058824, 0.6666666666666666, 0.3333333333333333, 0.4666666666666667, 0.35714285714285715, 0.5483870967741935, 0.4444444444444444, 0.3125, 0.4230769230769231, 0.6153846153846154, 0.5925925925925926, 0.5862068965517241, 0.5, 0.4411764705882353, 0.3902439024390244, 0.5217391304347826, 0.2894736842105263, 0.5, 0.40625, 0.3076923076923077, 0.5172413793103449, 0.4634146341463415, 0.5277777777777778, 0.4864864864864865, 0.4375, 0.6451612903225806, 0.4074074074074074, 0.47058823529411764, 0.43333333333333335, 0.42424242424242425, 0.5135135135135135, 0.5227272727272727, 0.5094339622641509, 0.43902439024390244, 0.5333333333333333, 0.5416666666666666, 0.5087719298245614, 0.6567164179104478, 0.6, 0.5396825396825397, 0.5714285714285714, 0.5657894736842105, 0.49295774647887325, 0.5652173913043478, 0.53125, 0.6407766990291263, 0.6206896551724138, 0.5794392523364486, 0.5658914728682171, 0.6349206349206349, 0.6153846153846154, 0.6477987421383647, 0.5294117647058824, 0.6275862068965518, 0.6263157894736842, 0.6326530612244898, 0.6419753086419753, 0.6194331983805668, 0.6086956521739131, 0.562874251497006, 0.6017699115044248, 0.6368715083798883, 0.6345029239766082, 0.6591478696741855, 0.6060606060606061, 0.6402640264026402, 0.6457564575645757, 0.7098445595854922], \"x\": [1940, 1941, 1942, 1943, 1944, 1945, 1946, 1947, 1948, 1949, 1950, 1951, 1952, 1953, 1954, 1955, 1956, 1957, 1958, 1959, 1960, 1961, 1962, 1963, 1964, 1965, 1966, 1967, 1968, 1969, 1970, 1971, 1972, 1973, 1974, 1975, 1976, 1977, 1978, 1979, 1980, 1981, 1982, 1983, 1984, 1985, 1986, 1987, 1988, 1989, 1990, 1991, 1992, 1993, 1994, 1995, 1996, 1997, 1998, 1999, 2000, 2001, 2002, 2003, 2004, 2005, 2006, 2007, 2008, 2009, 2010, 2011, 2012, 2013, 2014, 2015, 2016, 2017], \"type\": \"scatter\", \"fill\": \"tonexty\"}, {\"name\": \"Failed\", \"marker\": {\"color\": \"rgb(183, 42, 42)\", \"line\": {\"color\": \"rgb(73, 59, 59)\", \"width\": 1.5}}, \"y\": [1.0, 1.0, 1.0, 1.0, 1.0, 1.0, 1.0, 1.0, 1.0, 1.0, 1.0, 1.0, 1.0, 1.0, 1.0, 1.0, 1.0, 1.0, 1.0, 1.0, 1.0, 1.0, 1.0, 1.0, 1.0, 1.0, 1.0, 1.0, 1.0, 1.0, 1.0, 1.0, 1.0, 1.0, 1.0, 1.0, 1.0, 1.0, 1.0, 1.0, 1.0, 1.0, 1.0, 1.0, 1.0, 1.0, 1.0, 1.0, 1.0, 1.0, 1.0, 1.0, 1.0, 1.0, 1.0, 1.0, 1.0, 0.9999999999999999, 1.0, 1.0, 1.0, 1.0, 1.0, 1.0, 1.0, 1.0, 1.0, 1.0, 1.0, 1.0, 1.0, 1.0, 1.0, 1.0, 1.0, 1.0, 1.0, 1.0], \"x\": [1940, 1941, 1942, 1943, 1944, 1945, 1946, 1947, 1948, 1949, 1950, 1951, 1952, 1953, 1954, 1955, 1956, 1957, 1958, 1959, 1960, 1961, 1962, 1963, 1964, 1965, 1966, 1967, 1968, 1969, 1970, 1971, 1972, 1973, 1974, 1975, 1976, 1977, 1978, 1979, 1980, 1981, 1982, 1983, 1984, 1985, 1986, 1987, 1988, 1989, 1990, 1991, 1992, 1993, 1994, 1995, 1996, 1997, 1998, 1999, 2000, 2001, 2002, 2003, 2004, 2005, 2006, 2007, 2008, 2009, 2010, 2011, 2012, 2013, 2014, 2015, 2016, 2017], \"type\": \"scatter\", \"fill\": \"tonexty\"}], {\"title\": \"Bechdel Pass Rate by Year\", \"titlefont\": {\"family\": \"Oswald, sans-serif\", \"size\": 18}, \"xaxis\": {\"title\": \"Year\"}, \"yaxis\": {\"tickformat\": \"%\", \"title\": \"Pass Rate\"}}, {\"linkText\": \"Export to plot.ly\", \"showLink\": true})});</script>"
      ]
     },
     "metadata": {},
     "output_type": "display_data"
    },
    {
     "data": {
      "text/plain": [
       "'file:///Users/smcnish/classes/msan622/project/new/bechdel-test/code/line_chart_year.html'"
      ]
     },
     "execution_count": 46,
     "metadata": {},
     "output_type": "execute_result"
    }
   ],
   "source": [
    "# Create a trace and plot\n",
    "trace0 = go.Scatter(\n",
    "    x = all_joined2['year'],\n",
    "    y = all_joined2['passed'],\n",
    "    name='Passed',\n",
    "    fill='tonexty',\n",
    "    marker = dict(\n",
    "        color='rgb(95, 194, 204)',\n",
    "        line = dict(\n",
    "            color='rgb(73, 59, 59)',\n",
    "            width = 1.5)\n",
    "))\n",
    "trace1 = go.Scatter(\n",
    "    x = all_joined2['year'],\n",
    "    y = all_joined2['passed'] + all_joined2['failed'],\n",
    "    name='Failed',\n",
    "    fill='tonexty',\n",
    "        marker=dict(\n",
    "        color='rgb(183, 42, 42)',\n",
    "        line=dict(\n",
    "            color='rgb(73, 59, 59)',\n",
    "            width=1.5),\n",
    "        )\n",
    ")\n",
    "\n",
    "data = [trace0, trace1]\n",
    "\n",
    "layout = go.Layout(title='Bechdel Pass Rate by Year',\n",
    "                   titlefont=dict(size =18, family='Oswald, sans-serif'),\n",
    "                   yaxis=dict(tickformat=\"%\", title='Pass Rate'), \n",
    "                   xaxis=dict(title='Year'))\n",
    "\n",
    "fig = go.Figure(data=data, layout=layout)\n",
    "\n",
    "plotly.offline.iplot(fig)\n",
    "\n",
    "#export html\n",
    "plotly.offline.plot(fig, filename='line_chart_year.html', auto_open = False)"
   ]
  },
  {
   "cell_type": "markdown",
   "metadata": {
    "collapsed": true
   },
   "source": [
    "## Genre Plot"
   ]
  },
  {
   "cell_type": "markdown",
   "metadata": {},
   "source": [
    "This plot looks at rating by genre in a 100 percent stacked bar chart."
   ]
  },
  {
   "cell_type": "code",
   "execution_count": null,
   "metadata": {
    "collapsed": true
   },
   "outputs": [],
   "source": []
  }
 ],
 "metadata": {
  "kernelspec": {
   "display_name": "Python 2",
   "language": "python",
   "name": "python2"
  },
  "language_info": {
   "codemirror_mode": {
    "name": "ipython",
    "version": 2
   },
   "file_extension": ".py",
   "mimetype": "text/x-python",
   "name": "python",
   "nbconvert_exporter": "python",
   "pygments_lexer": "ipython2",
   "version": "2.7.13"
  }
 },
 "nbformat": 4,
 "nbformat_minor": 2
}
